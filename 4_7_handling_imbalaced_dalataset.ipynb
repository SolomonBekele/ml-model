{
  "nbformat": 4,
  "nbformat_minor": 0,
  "metadata": {
    "colab": {
      "provenance": [],
      "authorship_tag": "ABX9TyOTiszOytgNLw9/X+PmaTcu",
      "include_colab_link": true
    },
    "kernelspec": {
      "name": "python3",
      "display_name": "Python 3"
    },
    "language_info": {
      "name": "python"
    }
  },
  "cells": [
    {
      "cell_type": "markdown",
      "metadata": {
        "id": "view-in-github",
        "colab_type": "text"
      },
      "source": [
        "<a href=\"https://colab.research.google.com/github/SolomonBekele/ml-model/blob/master/4_7_handling_imbalaced_dalataset.ipynb\" target=\"_parent\"><img src=\"https://colab.research.google.com/assets/colab-badge.svg\" alt=\"Open In Colab\"/></a>"
      ]
    },
    {
      "cell_type": "markdown",
      "source": [
        "**Imbalaced Dataset**\n",
        "a dataset with an unequal class distribution"
      ],
      "metadata": {
        "id": "Gk45TNDCZtxa"
      }
    },
    {
      "cell_type": "code",
      "execution_count": null,
      "metadata": {
        "id": "GDfY6WkOZlvW"
      },
      "outputs": [],
      "source": [
        "import pandas as pd\n",
        "import numpy as np"
      ]
    },
    {
      "cell_type": "code",
      "source": [
        "creadit_card= pd.read_csv(\"/content/credit_data.csv\")"
      ],
      "metadata": {
        "id": "fP17YOtOjBVT"
      },
      "execution_count": null,
      "outputs": []
    },
    {
      "cell_type": "code",
      "source": [
        "#distribution of the two class\n",
        "creadit_card['Class'].value_counts()"
      ],
      "metadata": {
        "colab": {
          "base_uri": "https://localhost:8080/"
        },
        "id": "-_Yc3k6Njzo5",
        "outputId": "01cb4ff6-219f-4340-d997-12d595265f6f"
      },
      "execution_count": null,
      "outputs": [
        {
          "output_type": "execute_result",
          "data": {
            "text/plain": [
              "0    284315\n",
              "1       492\n",
              "Name: Class, dtype: int64"
            ]
          },
          "metadata": {},
          "execution_count": 4
        }
      ]
    },
    {
      "cell_type": "markdown",
      "source": [
        "Highly imbalaced dataset\n",
        "\n",
        "0 -> legit transactions\n",
        "1 -> fraudulent transactions"
      ],
      "metadata": {
        "id": "usM-6-3CuYZy"
      }
    },
    {
      "cell_type": "code",
      "source": [
        "# separating the legit and fraudulent transactions\n",
        "legit = creadit_card[creadit_card.Class == 0]\n",
        "fraud = creadit_card[creadit_card.Class == 1]\n",
        "print(legit.shape,fraud.shape)"
      ],
      "metadata": {
        "colab": {
          "base_uri": "https://localhost:8080/"
        },
        "id": "p76GCDstwXgy",
        "outputId": "7576d1b4-22db-4cde-c8cc-d740eec5f46f"
      },
      "execution_count": null,
      "outputs": [
        {
          "output_type": "stream",
          "name": "stdout",
          "text": [
            "(284315, 31) (492, 31)\n"
          ]
        }
      ]
    },
    {
      "cell_type": "markdown",
      "source": [
        "Under-sampling\n",
        "\n",
        "Build a sample dataset contsaining similar distribution of legit & fraudulent transactions\n",
        "\n",
        "Number of fraudulent transaction = 492 "
      ],
      "metadata": {
        "id": "mwaIl4fIxZj6"
      }
    },
    {
      "cell_type": "code",
      "source": [
        "legit_sample = legit.sample(n=492)\n"
      ],
      "metadata": {
        "id": "eZihZLH1xW-6"
      },
      "execution_count": null,
      "outputs": []
    },
    {
      "cell_type": "markdown",
      "source": [
        "concatinate the two dataframes"
      ],
      "metadata": {
        "id": "XQoeeTq8yhjL"
      }
    },
    {
      "cell_type": "code",
      "source": [
        "new_dataset = pd.concat([legit_sample,fraud],axis=0)"
      ],
      "metadata": {
        "id": "uoa4PFZLyhBE"
      },
      "execution_count": null,
      "outputs": []
    },
    {
      "cell_type": "code",
      "source": [
        "print(new_dataset.shape)\n",
        "new_dataset.Class.value_counts()"
      ],
      "metadata": {
        "colab": {
          "base_uri": "https://localhost:8080/"
        },
        "id": "_Voxr2F02acd",
        "outputId": "1bb17538-af74-4fa7-b5b3-f7a79cd818f5"
      },
      "execution_count": null,
      "outputs": [
        {
          "output_type": "stream",
          "name": "stdout",
          "text": [
            "(984, 31)\n"
          ]
        },
        {
          "output_type": "execute_result",
          "data": {
            "text/plain": [
              "0    492\n",
              "1    492\n",
              "Name: Class, dtype: int64"
            ]
          },
          "metadata": {},
          "execution_count": 10
        }
      ]
    },
    {
      "cell_type": "code",
      "source": [],
      "metadata": {
        "id": "gxAYhAe82jur"
      },
      "execution_count": null,
      "outputs": []
    }
  ]
}